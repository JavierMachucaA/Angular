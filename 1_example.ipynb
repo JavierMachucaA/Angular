{
  "nbformat": 4,
  "nbformat_minor": 0,
  "metadata": {
    "colab": {
      "name": "1-example.ipynb",
      "provenance": [],
      "authorship_tag": "ABX9TyOod4wdQ7D0j3wbJqeDi812",
      "include_colab_link": true
    },
    "kernelspec": {
      "name": "python3",
      "display_name": "Python 3"
    },
    "language_info": {
      "name": "python"
    }
  },
  "cells": [
    {
      "cell_type": "markdown",
      "metadata": {
        "id": "view-in-github",
        "colab_type": "text"
      },
      "source": [
        "<a href=\"https://colab.research.google.com/github/JavierMachucaA/Angular/blob/master/1_example.ipynb\" target=\"_parent\"><img src=\"https://colab.research.google.com/assets/colab-badge.svg\" alt=\"Open In Colab\"/></a>"
      ]
    },
    {
      "cell_type": "code",
      "metadata": {
        "colab": {
          "base_uri": "https://localhost:8080/"
        },
        "id": "759C2yYALe0p",
        "outputId": "49dd95c8-57a4-494e-cf2f-c532c95ecb37"
      },
      "source": [
        "import numpy as np\n",
        "array = np.array([1,2,3,4])\n",
        "print('Shape:',array.shape)\n",
        "print('Size:',array.size)\n",
        "print('Ndim: ', array.ndim)\n",
        "print('Nbytes: ', array.nbytes)\n",
        "print('Dtype: ', array.dtype)\n",
        "\n"
      ],
      "execution_count": 2,
      "outputs": [
        {
          "output_type": "stream",
          "text": [
            "Shape: (4,)\n",
            "Size: 4\n",
            "Ndim:  1\n",
            "Nbytes:  32\n",
            "Dtype:  int64\n"
          ],
          "name": "stdout"
        }
      ]
    }
  ]
}